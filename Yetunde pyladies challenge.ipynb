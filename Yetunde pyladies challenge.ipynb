{
 "cells": [
  {
   "cell_type": "code",
   "execution_count": 2,
   "metadata": {},
   "outputs": [
    {
     "name": "stdout",
     "output_type": "stream",
     "text": [
      "{'jollofrice': [500, 200], 'beans': [200, 10], 'akara': [100, 50], 'eba': [150, 30], 'spagetti': [600, 100]}\n",
      "\n",
      "\n",
      "{'jollofrice': [500, 200], 'beans': [200, 10], 'akara': [100, 50], 'eba': [150, 30], 'spagetti': [600, 100], 'plantain': [100, 10], 'cake': [120, 20], 'semo': [170, 30], 'yam': [135, 51]}\n",
      "\n",
      "\n",
      "PLEASE VIEW OUR EXISTING AND NEW  AVAILABLE PRODUCT BELOW\n",
      "__________________________________________________________________\n",
      "jollofrice  - Price and quantity available respectively [500, 200]\n",
      "__________________________________________________________________\n",
      "beans  - Price and quantity available respectively [200, 10]\n",
      "__________________________________________________________________\n",
      "akara  - Price and quantity available respectively [100, 50]\n",
      "__________________________________________________________________\n",
      "eba  - Price and quantity available respectively [150, 30]\n",
      "__________________________________________________________________\n",
      "spagetti  - Price and quantity available respectively [600, 100]\n",
      "__________________________________________________________________\n",
      "plantain  - Price and quantity available respectively [100, 10]\n",
      "__________________________________________________________________\n",
      "cake  - Price and quantity available respectively [120, 20]\n",
      "__________________________________________________________________\n",
      "semo  - Price and quantity available respectively [170, 30]\n",
      "__________________________________________________________________\n",
      "yam  - Price and quantity available respectively [135, 51]\n",
      "\n",
      "\n",
      "Please enter product you want to buy from above: jollofrice\n",
      "Please enter the quantity you want to buy: 3\n",
      "You just bought 3 jollofrice With a total price of 1500\n",
      "__________________________________________________________________\n",
      "Above 1000 total purchase has a 20% discount\n",
      "You can now pay:  1200.0\n",
      "\n",
      "\n",
      "Please enter product you want to buy from above: eba\n",
      "Please enter the quantity you want to buy: 4\n",
      "You just bought 4 eba With a total price of 600\n",
      "__________________________________________________________________\n",
      "A 5% VAT will be deducted on purchase above 500\n",
      "You can now pay:  570.0\n"
     ]
    }
   ],
   "source": [
    "morefood = {\"jollofrice\": [500, 200], \"beans\":[200,10], \"akara\":[100,50], \"eba\":[150, 30], \"spagetti\":[600,100]}\n",
    "print(morefood)\n",
    "print('\\n')\n",
    "new_food = {\"plantain\":[100,10], \"cake\":[120, 20], \"semo\":[170, 30], \"yam\":[135, 51]}\n",
    "morefood.update(new_food)\n",
    "print(morefood)\n",
    "print('\\n')\n",
    "print(\"PLEASE VIEW OUR EXISTING AND NEW  AVAILABLE PRODUCT BELOW\")\n",
    "\n",
    "def viewProduct():\n",
    "    for i in morefood:\n",
    "        print('_' * 66)\n",
    "        print(i, \" - Price and quantity available respectively\", morefood[i])\n",
    "viewProduct()\n",
    "print('\\n')\n",
    "\n",
    "def purchasing():    \n",
    "    buypro = input(\"Please enter product you want to buy from above: \")\n",
    "    quant = int(input(\"Please enter the quantity you want to buy: \"))\n",
    "    if buypro in morefood:\n",
    "        newTotalPrice = morefood[buypro][0]\n",
    "        purchasePrice = int(newTotalPrice * quant)\n",
    "        remain_quantity = morefood[buypro][1] - quant\n",
    "        morefood[buypro][1] = remain_quantity\n",
    "        print(\"You just bought\", quant, buypro, \"With a total price of\", purchasePrice)\n",
    "    if purchasePrice > 500 and purchasePrice < 1000:\n",
    "        print('_' * 66)\n",
    "        print(\"A 5% VAT will be deducted on purchase above 500\")\n",
    "        print(\"You can now pay: \", purchasePrice - (purchasePrice*0.05))\n",
    "    if purchasePrice >= 1000:\n",
    "        print('_' * 66)\n",
    "        print(\"Above 1000 total purchase has a 20% discount\")\n",
    "        print(\"You can now pay: \", purchasePrice - (purchasePrice*0.20))\n",
    "purchasing()\n",
    "print('\\n')\n",
    "purchasing()"
   ]
  },
  {
   "cell_type": "code",
   "execution_count": null,
   "metadata": {},
   "outputs": [],
   "source": []
  }
 ],
 "metadata": {
  "kernelspec": {
   "display_name": "Python 3",
   "language": "python",
   "name": "python3"
  },
  "language_info": {
   "codemirror_mode": {
    "name": "ipython",
    "version": 3
   },
   "file_extension": ".py",
   "mimetype": "text/x-python",
   "name": "python",
   "nbconvert_exporter": "python",
   "pygments_lexer": "ipython3",
   "version": "3.7.6"
  }
 },
 "nbformat": 4,
 "nbformat_minor": 4
}
